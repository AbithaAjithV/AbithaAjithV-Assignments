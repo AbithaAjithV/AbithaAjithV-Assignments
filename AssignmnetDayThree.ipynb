{
  "nbformat": 4,
  "nbformat_minor": 0,
  "metadata": {
    "colab": {
      "name": "AssignmentDayThree.ipynb",
      "provenance": [],
      "collapsed_sections": []
    },
    "kernelspec": {
      "name": "python3",
      "display_name": "Python 3"
    }
  },
  "cells": [
    {
      "cell_type": "markdown",
      "metadata": {
        "id": "3NG0qlgSiTgS"
      },
      "source": [
        "Answer 1"
      ]
    },
    {
      "cell_type": "code",
      "metadata": {
        "id": "EVqMF4xAiWfR",
        "outputId": "b561172f-0964-4a3c-98a2-43dbca93d559",
        "colab": {
          "base_uri": "https://localhost:8080/"
        }
      },
      "source": [
        "# importing numpy with alias name\n",
        "import numpy as np\n",
        "\n",
        "# creating a array using numpy arange\n",
        "arr = np.arange(2, 50, 3)\n",
        "\n",
        "# printing array\n",
        "print(arr)"
      ],
      "execution_count": null,
      "outputs": [
        {
          "output_type": "stream",
          "text": [
            "[ 2  5  8 11 14 17 20 23 26 29 32 35 38 41 44 47]\n"
          ],
          "name": "stdout"
        }
      ]
    },
    {
      "cell_type": "markdown",
      "metadata": {
        "id": "XVu06cIri0kI"
      },
      "source": [
        "Answer 2"
      ]
    },
    {
      "cell_type": "code",
      "metadata": {
        "id": "V8fJuItji22o",
        "outputId": "f40bdc44-e751-4ccf-ee1d-0d6c5361e6e0",
        "colab": {
          "base_uri": "https://localhost:8080/"
        }
      },
      "source": [
        "#importing numpy with alias name\n",
        "import numpy as np\n",
        "\n",
        "#creating 2 empty lists\n",
        "list_1 = []\n",
        "list_2 = []\n",
        "\n",
        "#getting values from user for list_1\n",
        "for i in range(5):\n",
        "  x=int(input(\"\\nEnter values for list 1: \"))\n",
        "  list_1.append(x)\n",
        "\n",
        "#print list_1\n",
        "print(\"list 1\", list_1)\n",
        "\n",
        "#getting values from user for list_2\n",
        "for i in range(5):\n",
        "  x=int(input(\"\\nEnter values for list 2: \"))\n",
        "  list_2.append(x)\n",
        "  \n",
        "#print list_2\n",
        "print(\"list 2\", list_2)\n",
        "print(\" \")\n",
        "\n",
        "#converting lists 1 and list 2 to numpy arrays and printing arrays\n",
        "array_1 = np.array(list_1)\n",
        "print(\"array 1: \", array_1)\n",
        "array_2 = np.array(list_2)\n",
        "print(\"array 2: \", array_2)\n",
        "\n",
        "#Concatenation of array 1 and array 2\n",
        "arr_concat = np.concatenate((array_1, array_2))\n",
        "\n",
        "#printing new array after concatenation\n",
        "print(\"Array after concatenation is : \", arr_concat)\n",
        "\n",
        "#sorting of concatenated array\n",
        "print(\"sorted array is:\", np.sort(arr_concat))\n"
      ],
      "execution_count": null,
      "outputs": [
        {
          "output_type": "stream",
          "text": [
            "\n",
            "Enter values for list 1: 2\n",
            "\n",
            "Enter values for list 1: 14\n",
            "\n",
            "Enter values for list 1: 63\n",
            "\n",
            "Enter values for list 1: 85\n",
            "\n",
            "Enter values for list 1: 21\n",
            "list 1 [2, 14, 63, 85, 21]\n",
            "\n",
            "Enter values for list 2: 33\n",
            "\n",
            "Enter values for list 2: 44\n",
            "\n",
            "Enter values for list 2: 88\n",
            "\n",
            "Enter values for list 2: 45\n",
            "\n",
            "Enter values for list 2: 69\n",
            "list 2 [33, 44, 88, 45, 69]\n",
            " \n",
            "array 1:  [ 2 14 63 85 21]\n",
            "array 2:  [33 44 88 45 69]\n",
            "Array after concatenation is :  [ 2 14 63 85 21 33 44 88 45 69]\n",
            "sorted array is: [ 2 14 21 33 44 45 63 69 85 88]\n"
          ],
          "name": "stdout"
        }
      ]
    },
    {
      "cell_type": "markdown",
      "metadata": {
        "id": "i54GIbd8kUXE"
      },
      "source": [
        "Answer 3\n"
      ]
    },
    {
      "cell_type": "code",
      "metadata": {
        "id": "3APJKysXkW-a",
        "outputId": "600737e6-d628-456b-db39-5915e65d9844",
        "colab": {
          "base_uri": "https://localhost:8080/"
        }
      },
      "source": [
        "# importing numpy as np\n",
        "import numpy as np\n",
        "\n",
        "# creating a 2d array\n",
        "arr = np.array([[11,25,33,77],[14,39,55,37]])\n",
        "print(arr)\n",
        "\n",
        "#calculating diamension of ndarray\n",
        "print(\"\\nDimensions of array : \", arr.ndim)\n",
        " \n",
        "# Printing size of array\n",
        "print(\"\\nSize of array : \", arr.size)\n"
      ],
      "execution_count": null,
      "outputs": [
        {
          "output_type": "stream",
          "text": [
            "[[11 25 33 77]\n",
            " [14 39 55 37]]\n",
            "\n",
            "Dimensions of array :  2\n",
            "\n",
            "Size of array :  8\n"
          ],
          "name": "stdout"
        }
      ]
    },
    {
      "cell_type": "markdown",
      "metadata": {
        "id": "qwRWhFYmke-8"
      },
      "source": [
        "Answer 4"
      ]
    },
    {
      "cell_type": "code",
      "metadata": {
        "id": "XOtR2R2Okgu4",
        "outputId": "b58665ad-dc04-46a9-f16c-df0c2cedb4bd",
        "colab": {
          "base_uri": "https://localhost:8080/"
        }
      },
      "source": [
        "#importing numpy\n",
        "import numpy as np\n",
        "\n",
        "# creating a 1d array\n",
        "arr = np.arange(20)\n",
        "\n",
        "#printing shape of array\n",
        "print(\"\\nShape of Array :\",arr.shape)\n",
        "\n",
        "# converting using newaxis in row wise\n",
        "row_arr = arr[np.newaxis, :]\n",
        "print(\"\\nShape of 2d Array in row major :\",row_arr.shape)\n",
        "\n",
        "# converting using newaxis in column wise\n",
        "col_arr = arr[:, np.newaxis]\n",
        "print(\"\\nShape of 2d Array in column major :\",col_arr.shape)"
      ],
      "execution_count": null,
      "outputs": [
        {
          "output_type": "stream",
          "text": [
            "\n",
            "Shape of Array : (20,)\n",
            "\n",
            "Shape of 2d Array in row major : (1, 20)\n",
            "\n",
            "Shape of 2d Array in column major : (20, 1)\n"
          ],
          "name": "stdout"
        }
      ]
    },
    {
      "cell_type": "markdown",
      "metadata": {
        "id": "OareYyChnU3y"
      },
      "source": [
        "Answer 5"
      ]
    },
    {
      "cell_type": "code",
      "metadata": {
        "id": "O2yQReL2m_df",
        "outputId": "dc9d20cd-57d1-427c-a2b8-d8172afb5cea",
        "colab": {
          "base_uri": "https://localhost:8080/"
        }
      },
      "source": [
        "import numpy as np\n",
        "a = np.array([[1, 2],\n",
        "              [3, 4]])\n",
        "b = np.array([[5, 6],\n",
        "              [7, 8]])\n",
        "print(\"Vertical stacking:\\n\", np.vstack((a, b)))\n",
        "print(\"\\nHorizontal stacking:\\n\", np.hstack((a, b)))"
      ],
      "execution_count": null,
      "outputs": [
        {
          "output_type": "stream",
          "text": [
            "Vertical stacking:\n",
            " [[1 2]\n",
            " [3 4]\n",
            " [5 6]\n",
            " [7 8]]\n",
            "\n",
            "Horizontal stacking:\n",
            " [[1 2 5 6]\n",
            " [3 4 7 8]]\n"
          ],
          "name": "stdout"
        }
      ]
    },
    {
      "cell_type": "markdown",
      "metadata": {
        "id": "kgzjCb2-nQ6p"
      },
      "source": [
        "Answer 6"
      ]
    },
    {
      "cell_type": "code",
      "metadata": {
        "id": "lWhmGAmXnNZH"
      },
      "source": [
        "import numpy as np\n",
        "arr = np.array([11, 11, 12, 13, 14, 15, 16, 17, 12, 13, 11, 14, 18])\n",
        "print('Original Numpy Array:\\n ', arr)\n",
        "uniqueValues, occurCount = np.unique(arr, return_counts=True)\n",
        "print('Unique Values :\\n ',uniqueValues)\n",
        "print(\"Occurrence Count :\\n \", occurCount)\n",
        "print('Unique Values along with occurrence Count')\n",
        "listOfUniqueValues = zip(uniqueValues, occurCount)\n",
        "for elem in listOfUniqueValues:\n",
        "   print(elem[0] , ' Occurs : ' , elem[1], ' times')"
      ],
      "execution_count": null,
      "outputs": []
    }
  ]
}