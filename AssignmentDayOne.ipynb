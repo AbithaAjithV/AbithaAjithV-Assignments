{
  "nbformat": 4,
  "nbformat_minor": 0,
  "metadata": {
    "colab": {
      "name": "AssignmentDayOne.ipynb",
      "provenance": [],
      "collapsed_sections": []
    },
    "kernelspec": {
      "name": "python3",
      "display_name": "Python 3"
    }
  },
  "cells": [
    {
      "cell_type": "markdown",
      "metadata": {
        "id": "vBj6zAOfb9us"
      },
      "source": [
        "Answer 1"
      ]
    },
    {
      "cell_type": "code",
      "metadata": {
        "id": "ofAFVaVqXuqj",
        "outputId": "5366288e-6b91-4f0a-faac-233d2eebbb6d",
        "colab": {
          "base_uri": "https://localhost:8080/"
        }
      },
      "source": [
        "print(\"RAINBOW\")"
      ],
      "execution_count": null,
      "outputs": [
        {
          "output_type": "stream",
          "text": [
            "RAINBOW\n"
          ],
          "name": "stdout"
        }
      ]
    },
    {
      "cell_type": "markdown",
      "metadata": {
        "id": "ZmJ4web7cFnO"
      },
      "source": [
        "Answer 2"
      ]
    },
    {
      "cell_type": "code",
      "metadata": {
        "id": "ob6-vFDZYeDs",
        "outputId": "8f60d2f1-00de-4afb-9e8a-0af948af98db",
        "colab": {
          "base_uri": "https://localhost:8080/"
        }
      },
      "source": [
        "print(\"LETS UPGRADE\")"
      ],
      "execution_count": null,
      "outputs": [
        {
          "output_type": "stream",
          "text": [
            "LETS UPGRADE\n"
          ],
          "name": "stdout"
        }
      ]
    },
    {
      "cell_type": "markdown",
      "metadata": {
        "id": "WZ9mChNpcIaj"
      },
      "source": [
        "Answer 3"
      ]
    },
    {
      "cell_type": "code",
      "metadata": {
        "id": "jJ3o7PlhYx31",
        "outputId": "528684c4-fa26-4123-e29e-49fba7106238",
        "colab": {
          "base_uri": "https://localhost:8080/"
        }
      },
      "source": [
        "cp=input('enter cost price:')   \n",
        "sp=input('enter selling price:')\n",
        "if cp>sp:\n",
        "   print(\"Loss\")\n",
        "elif sp>cp:\n",
        "    print(\"Profit\")\n",
        "else :\n",
        "    print(\"Neither\")"
      ],
      "execution_count": null,
      "outputs": [
        {
          "output_type": "stream",
          "text": [
            "enter cost price:20\n",
            "enter selling price:25\n",
            "Profit\n"
          ],
          "name": "stdout"
        }
      ]
    },
    {
      "cell_type": "markdown",
      "metadata": {
        "id": "MmIdn978cMCj"
      },
      "source": [
        "Answer 4"
      ]
    },
    {
      "cell_type": "code",
      "metadata": {
        "id": "f_CNypY9a_Mj",
        "outputId": "d8aa09e9-b54c-4e68-f5a3-e5e27610a36d",
        "colab": {
          "base_uri": "https://localhost:8080/"
        }
      },
      "source": [
        "Eu = float(input(\"Euros:\"))\n",
        "Ru =Eu * 80\n",
        "print(Ru, \" Rupees\")"
      ],
      "execution_count": null,
      "outputs": [
        {
          "output_type": "stream",
          "text": [
            "Euros:20\n",
            "1600.0  Rupees\n"
          ],
          "name": "stdout"
        }
      ]
    },
    {
      "cell_type": "code",
      "metadata": {
        "id": "LTKG0XR5be2n"
      },
      "source": [
        ""
      ],
      "execution_count": null,
      "outputs": []
    }
  ]
}