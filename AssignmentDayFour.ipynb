{
  "nbformat": 4,
  "nbformat_minor": 0,
  "metadata": {
    "colab": {
      "name": "AssignmentDayFour.ipynb",
      "provenance": [],
      "collapsed_sections": []
    },
    "kernelspec": {
      "name": "python3",
      "display_name": "Python 3"
    }
  },
  "cells": [
    {
      "cell_type": "markdown",
      "metadata": {
        "id": "5NjxrYPCnwKS"
      },
      "source": [
        "Answer 1"
      ]
    },
    {
      "cell_type": "code",
      "metadata": {
        "id": "kIJOgBj_nx7Q",
        "outputId": "6f849481-0a61-4dc5-a72b-6162801aaac7",
        "colab": {
          "base_uri": "https://localhost:8080/"
        }
      },
      "source": [
        "#How to import pandas and check the version?\n",
        "import pandas as pd\n",
        "print(pd.__version__)"
      ],
      "execution_count": null,
      "outputs": [
        {
          "output_type": "stream",
          "text": [
            "1.1.4\n"
          ],
          "name": "stdout"
        }
      ]
    },
    {
      "cell_type": "markdown",
      "metadata": {
        "id": "P3KhvbPen9d8"
      },
      "source": [
        "Answer 2"
      ]
    },
    {
      "cell_type": "code",
      "metadata": {
        "id": "VsCayH9-n9xV",
        "outputId": "8eaebf07-e0f6-41f0-c589-af525c4fdfe2",
        "colab": {
          "base_uri": "https://localhost:8080/"
        }
      },
      "source": [
        "#How to create a series from a numpy array?\n",
        "import pandas as pd\n",
        "import numpy as np\n",
        "a1=np.array([10,42,63,49,25])\n",
        "s1=pd.Series(a1)\n",
        "print(s1)"
      ],
      "execution_count": null,
      "outputs": [
        {
          "output_type": "stream",
          "text": [
            "0    10\n",
            "1    42\n",
            "2    63\n",
            "3    49\n",
            "4    25\n",
            "dtype: int64\n"
          ],
          "name": "stdout"
        }
      ]
    },
    {
      "cell_type": "markdown",
      "metadata": {
        "id": "zBQrvyMWoDqB"
      },
      "source": [
        "Answer 3"
      ]
    },
    {
      "cell_type": "code",
      "metadata": {
        "id": "s3dIXTeEoFWi",
        "outputId": "23cef278-9269-4f3b-86c8-f806049f3d1a",
        "colab": {
          "base_uri": "https://localhost:8080/"
        }
      },
      "source": [
        "#How to convert the index of a series into a column of a dataframe?\n",
        "import pandas as pd\n",
        "import numpy as np\n",
        "a1=np.array([10,42,63,49,25])\n",
        "s1=pd.Series(a1)\n",
        "df = s1.to_frame().reset_index()\n",
        "print(df)"
      ],
      "execution_count": null,
      "outputs": [
        {
          "output_type": "stream",
          "text": [
            "   index   0\n",
            "0      0  10\n",
            "1      1  42\n",
            "2      2  63\n",
            "3      3  49\n",
            "4      4  25\n"
          ],
          "name": "stdout"
        }
      ]
    },
    {
      "cell_type": "markdown",
      "metadata": {
        "id": "ifnis5KuoVsl"
      },
      "source": [
        "Answer 4"
      ]
    },
    {
      "cell_type": "code",
      "metadata": {
        "id": "-Hr7HKuloSm-",
        "outputId": "b1573a39-c9bb-4ffb-8813-233c03728255",
        "colab": {
          "base_uri": "https://localhost:8080/"
        }
      },
      "source": [
        "#Write the code to list all the datasets available in seaborn library.Load the 'mpg' dataset\n",
        "import seaborn as sns\n",
        "print(\"Datasets available in seaborn:\\n\",sns.get_dataset_names())\n",
        "mpg=sns.load_dataset('mpg')\n",
        "print(\"*****Dataset mpg loaded:*****\\n\",mpg)"
      ],
      "execution_count": null,
      "outputs": [
        {
          "output_type": "stream",
          "text": [
            "Datasets available in seaborn:\n",
            " ['anagrams', 'anscombe', 'attention', 'brain_networks', 'car_crashes', 'diamonds', 'dots', 'exercise', 'flights', 'fmri', 'gammas', 'geyser', 'iris', 'mpg', 'penguins', 'planets', 'tips', 'titanic']\n",
            "*****Dataset mpg loaded:*****\n",
            "       mpg  cylinders  ...  origin                       name\n",
            "0    18.0          8  ...     usa  chevrolet chevelle malibu\n",
            "1    15.0          8  ...     usa          buick skylark 320\n",
            "2    18.0          8  ...     usa         plymouth satellite\n",
            "3    16.0          8  ...     usa              amc rebel sst\n",
            "4    17.0          8  ...     usa                ford torino\n",
            "..    ...        ...  ...     ...                        ...\n",
            "393  27.0          4  ...     usa            ford mustang gl\n",
            "394  44.0          4  ...  europe                  vw pickup\n",
            "395  32.0          4  ...     usa              dodge rampage\n",
            "396  28.0          4  ...     usa                ford ranger\n",
            "397  31.0          4  ...     usa                 chevy s-10\n",
            "\n",
            "[398 rows x 9 columns]\n"
          ],
          "name": "stdout"
        }
      ]
    },
    {
      "cell_type": "markdown",
      "metadata": {
        "id": "g_Ro3BoloYUl"
      },
      "source": [
        "Answer 5"
      ]
    },
    {
      "cell_type": "code",
      "metadata": {
        "id": "S3rdhVRqob4K",
        "outputId": "8b15f274-5386-4156-93a8-323ecbc4dbc2",
        "colab": {
          "base_uri": "https://localhost:8080/"
        }
      },
      "source": [
        "#Which country origin cars are a part of this dataset?\n",
        "import seaborn as sns\n",
        "mpg=sns.load_dataset('mpg')\n",
        "print(mpg['origin'].unique())"
      ],
      "execution_count": null,
      "outputs": [
        {
          "output_type": "stream",
          "text": [
            "['usa' 'japan' 'europe']\n"
          ],
          "name": "stdout"
        }
      ]
    },
    {
      "cell_type": "markdown",
      "metadata": {
        "id": "fjOuM0snojpU"
      },
      "source": [
        "Answer 6"
      ]
    },
    {
      "cell_type": "code",
      "metadata": {
        "id": "4mAPgr_eolcD",
        "outputId": "bea6f178-cb87-4260-d6dc-9849b1925326",
        "colab": {
          "base_uri": "https://localhost:8080/"
        }
      },
      "source": [
        "#Extract the part of the dataframe which contains cars belonging to \"usa\"\n",
        "import seaborn as sns\n",
        "mpg=sns.load_dataset('mpg')\n",
        "print(mpg[mpg['origin']=='usa'])"
      ],
      "execution_count": null,
      "outputs": [
        {
          "output_type": "stream",
          "text": [
            "      mpg  cylinders  ...  origin                       name\n",
            "0    18.0          8  ...     usa  chevrolet chevelle malibu\n",
            "1    15.0          8  ...     usa          buick skylark 320\n",
            "2    18.0          8  ...     usa         plymouth satellite\n",
            "3    16.0          8  ...     usa              amc rebel sst\n",
            "4    17.0          8  ...     usa                ford torino\n",
            "..    ...        ...  ...     ...                        ...\n",
            "392  27.0          4  ...     usa           chevrolet camaro\n",
            "393  27.0          4  ...     usa            ford mustang gl\n",
            "395  32.0          4  ...     usa              dodge rampage\n",
            "396  28.0          4  ...     usa                ford ranger\n",
            "397  31.0          4  ...     usa                 chevy s-10\n",
            "\n",
            "[249 rows x 9 columns]\n"
          ],
          "name": "stdout"
        }
      ]
    }
  ]
}