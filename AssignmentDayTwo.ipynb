{
  "nbformat": 4,
  "nbformat_minor": 0,
  "metadata": {
    "colab": {
      "name": "AssignmentDayTwo.ipynb",
      "provenance": [],
      "collapsed_sections": []
    },
    "kernelspec": {
      "name": "python3",
      "display_name": "Python 3"
    }
  },
  "cells": [
    {
      "cell_type": "markdown",
      "metadata": {
        "id": "47BOPTGmfHW3"
      },
      "source": [
        "Answer 1"
      ]
    },
    {
      "cell_type": "code",
      "metadata": {
        "id": "Fb_17gtEei8O",
        "outputId": "5c51503f-41c2-4025-8cc6-0c63143474e1",
        "colab": {
          "base_uri": "https://localhost:8080/"
        }
      },
      "source": [
        "list=[]\n",
        "for i in range(10):\n",
        "    input_number=int(input(\"Enter a Number:\"))\n",
        "    if(input_number%2==0):\n",
        "        list.append(input_number)\n",
        "print(list)\n"
      ],
      "execution_count": 1,
      "outputs": [
        {
          "output_type": "stream",
          "text": [
            "Enter a Number:0\n",
            "Enter a Number:1\n",
            "Enter a Number:2\n",
            "Enter a Number:3\n",
            "Enter a Number:4\n",
            "Enter a Number:5\n",
            "Enter a Number:6\n",
            "Enter a Number:7\n",
            "Enter a Number:8\n",
            "Enter a Number:9\n",
            "[0, 2, 4, 6, 8]\n"
          ],
          "name": "stdout"
        }
      ]
    },
    {
      "cell_type": "markdown",
      "metadata": {
        "id": "qxlh7YJxfNZG"
      },
      "source": [
        "Answer 2"
      ]
    },
    {
      "cell_type": "code",
      "metadata": {
        "id": "YWHGr_yzfKEY",
        "outputId": "2e90e01d-bcb8-400b-83f8-f99e7583416e",
        "colab": {
          "base_uri": "https://localhost:8080/"
        }
      },
      "source": [
        "lst=[1,2,3,4,5,6,7,8,9,10]\n",
        "print(lst)\n",
        "list0=[99,88,77,44,55,66,33]\n",
        "print(list0)\n",
        "list1=[i for i in range(11,26)]\n",
        "print(list1)\n",
        "\n",
        "#list.append(x)\n",
        "list1.append(27)\n",
        "print(list1)\n",
        "\n",
        "#list.insert(i, x)\n",
        "list1.insert(5,29)\n",
        "print(list1)\n",
        "\n",
        "#list.extend(iterable)\n",
        "lst.extend(list1)\n",
        "print(lst)\n",
        "\n",
        "#list.remove(x)\n",
        "lst.remove(20)\n",
        "print(lst)\n",
        "\n",
        "#list.sort()\n",
        "list0.sort()\n",
        "print(list0)"
      ],
      "execution_count": 2,
      "outputs": [
        {
          "output_type": "stream",
          "text": [
            "[1, 2, 3, 4, 5, 6, 7, 8, 9, 10]\n",
            "[99, 88, 77, 44, 55, 66, 33]\n",
            "[11, 12, 13, 14, 15, 16, 17, 18, 19, 20, 21, 22, 23, 24, 25]\n",
            "[11, 12, 13, 14, 15, 16, 17, 18, 19, 20, 21, 22, 23, 24, 25, 27]\n",
            "[11, 12, 13, 14, 15, 29, 16, 17, 18, 19, 20, 21, 22, 23, 24, 25, 27]\n",
            "[1, 2, 3, 4, 5, 6, 7, 8, 9, 10, 11, 12, 13, 14, 15, 29, 16, 17, 18, 19, 20, 21, 22, 23, 24, 25, 27]\n",
            "[1, 2, 3, 4, 5, 6, 7, 8, 9, 10, 11, 12, 13, 14, 15, 29, 16, 17, 18, 19, 21, 22, 23, 24, 25, 27]\n",
            "[33, 44, 55, 66, 77, 88, 99]\n"
          ],
          "name": "stdout"
        }
      ]
    },
    {
      "cell_type": "markdown",
      "metadata": {
        "id": "rGB6_XdNgHln"
      },
      "source": [
        "Answer 3"
      ]
    },
    {
      "cell_type": "code",
      "metadata": {
        "id": "vp62-ZP_gJ5Y",
        "outputId": "3ff9bec5-2209-4e2a-a7f3-591f779a77d8",
        "colab": {
          "base_uri": "https://localhost:8080/"
        }
      },
      "source": [
        "n=int(input())\n",
        "dict1={i:i*i for i in range(1,n+1)}\n",
        "print(dict1)"
      ],
      "execution_count": 3,
      "outputs": [
        {
          "output_type": "stream",
          "text": [
            "8\n",
            "{1: 1, 2: 4, 3: 9, 4: 16, 5: 25, 6: 36, 7: 49, 8: 64}\n"
          ],
          "name": "stdout"
        }
      ]
    },
    {
      "cell_type": "markdown",
      "metadata": {
        "id": "9piG3uOSgk44"
      },
      "source": [
        "Answer 4"
      ]
    },
    {
      "cell_type": "code",
      "metadata": {
        "id": "U8HNnm2Agm6j",
        "outputId": "222e4d7c-8f3b-4232-8879-3dd2b19103e5",
        "colab": {
          "base_uri": "https://localhost:8080/"
        }
      },
      "source": [
        "pos = {\"x\":0,\"y\":0}\n",
        "\n",
        "n = int(input())\n",
        "\n",
        "for i in range (n):\n",
        "    move =  input().split(\" \")    \n",
        "    \n",
        "    if move[0].lower() == \"up\":    \n",
        "        pos[\"y\"] += int(move[1])   \n",
        "    \n",
        "    elif move[0].lower() == \"down\":\n",
        "        pos[\"y\"] -= int(move[1])\n",
        "    \n",
        "    elif move[0].lower() == \"left\":\n",
        "        pos[\"x\"] -= int(move[1])\n",
        "    \n",
        "    elif move[0].lower() == \"right\":\n",
        "        pos[\"x\"] += int(move[1])\n",
        "\n",
        "print(int(round((pos[\"x\"]**2 + pos[\"y\"]**2)**0.5))) \n"
      ],
      "execution_count": 4,
      "outputs": [
        {
          "output_type": "stream",
          "text": [
            "4\n",
            "UP 5\n",
            "DOWN 3\n",
            "LEFT 3\n",
            "RIGHT 2\n",
            "2\n"
          ],
          "name": "stdout"
        }
      ]
    },
    {
      "cell_type": "code",
      "metadata": {
        "id": "8hcurXTTgrTE"
      },
      "source": [
        ""
      ],
      "execution_count": null,
      "outputs": []
    }
  ]
}